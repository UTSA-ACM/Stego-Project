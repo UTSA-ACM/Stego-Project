{
  "nbformat": 4,
  "nbformat_minor": 0,
  "metadata": {
    "colab": {
      "name": "Untitled0.ipynb",
      "provenance": [],
      "collapsed_sections": [],
      "toc_visible": true
    },
    "kernelspec": {
      "name": "python3",
      "display_name": "Python 3"
    },
    "language_info": {
      "name": "python"
    }
  },
  "cells": [
    {
      "cell_type": "code",
      "metadata": {
        "colab": {
          "resources": {
            "http://localhost:8080/nbextensions/google.colab/files.js": {
              "data": "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",
              "ok": true,
              "headers": [
                [
                  "content-type",
                  "application/javascript"
                ]
              ],
              "status": 200,
              "status_text": ""
            }
          },
          "base_uri": "https://localhost:8080/",
          "height": 72
        },
        "id": "X_Oa3kU5JDAa",
        "outputId": "78a1625a-8f63-400a-8392-429fad5059d0"
      },
      "source": [
        "# this is how you can upload your test files\n",
        "# I just used a 4x4 (16 pixel) white image to really show the color differences\n",
        "from google.colab import files\n",
        "\n",
        "uploaded = files.upload()"
      ],
      "execution_count": 2,
      "outputs": [
        {
          "output_type": "display_data",
          "data": {
            "text/html": [
              "\n",
              "     <input type=\"file\" id=\"files-45728ace-c132-435c-89dc-d7565278b8a2\" name=\"files[]\" multiple disabled\n",
              "        style=\"border:none\" />\n",
              "     <output id=\"result-45728ace-c132-435c-89dc-d7565278b8a2\">\n",
              "      Upload widget is only available when the cell has been executed in the\n",
              "      current browser session. Please rerun this cell to enable.\n",
              "      </output>\n",
              "      <script src=\"/nbextensions/google.colab/files.js\"></script> "
            ],
            "text/plain": [
              "<IPython.core.display.HTML object>"
            ]
          },
          "metadata": {}
        },
        {
          "output_type": "stream",
          "name": "stdout",
          "text": [
            "Saving white-4-by-4.png to white-4-by-4.png\n"
          ]
        }
      ]
    },
    {
      "cell_type": "code",
      "metadata": {
        "id": "EKxsuGjNJo0Z",
        "colab": {
          "base_uri": "https://localhost:8080/"
        },
        "outputId": "fc5d9452-63e1-4a27-b026-3b36e2ab6d83"
      },
      "source": [
        "# you can install the bitarray package using this\n",
        "!pip install bitarray\n",
        "\n",
        "# on your own computer with Python, you can install PIL and bitarray with:\n",
        "# pip install pillow\n",
        "# pip install bitarray"
      ],
      "execution_count": 3,
      "outputs": [
        {
          "output_type": "stream",
          "name": "stdout",
          "text": [
            "Collecting bitarray\n",
            "  Downloading bitarray-2.3.4.tar.gz (88 kB)\n",
            "\u001b[?25l\r\u001b[K     |███▊                            | 10 kB 27.1 MB/s eta 0:00:01\r\u001b[K     |███████▍                        | 20 kB 12.8 MB/s eta 0:00:01\r\u001b[K     |███████████▏                    | 30 kB 9.7 MB/s eta 0:00:01\r\u001b[K     |██████████████▉                 | 40 kB 8.8 MB/s eta 0:00:01\r\u001b[K     |██████████████████▋             | 51 kB 5.5 MB/s eta 0:00:01\r\u001b[K     |██████████████████████▎         | 61 kB 5.5 MB/s eta 0:00:01\r\u001b[K     |██████████████████████████      | 71 kB 5.0 MB/s eta 0:00:01\r\u001b[K     |█████████████████████████████▊  | 81 kB 5.6 MB/s eta 0:00:01\r\u001b[K     |████████████████████████████████| 88 kB 3.2 MB/s \n",
            "\u001b[?25hBuilding wheels for collected packages: bitarray\n",
            "  Building wheel for bitarray (setup.py) ... \u001b[?25l\u001b[?25hdone\n",
            "  Created wheel for bitarray: filename=bitarray-2.3.4-cp37-cp37m-linux_x86_64.whl size=171972 sha256=76c2ec554c98141932797a7f5dfb6301378d47c0b795041792440c086634f375\n",
            "  Stored in directory: /root/.cache/pip/wheels/84/cc/5b/0e861bdb5294d22d2d4f595df936f964a95258387e11494d41\n",
            "Successfully built bitarray\n",
            "Installing collected packages: bitarray\n",
            "Successfully installed bitarray-2.3.4\n"
          ]
        }
      ]
    },
    {
      "cell_type": "code",
      "metadata": {
        "id": "cO2q1fIcJzUB"
      },
      "source": [
        "# we are now importing the Python Imaging Library (PIL) to manipulate images, and the bitarray class to more easily convert to and from raw bits\n",
        "from PIL import Image\n",
        "from bitarray import bitarray"
      ],
      "execution_count": 4,
      "outputs": []
    },
    {
      "cell_type": "code",
      "metadata": {
        "id": "WrpFP7RYKCWX"
      },
      "source": [
        "# here we define the file names we are loading and writing to, and open the image\n",
        "OLD_FILE = \"./white-4-by-4.png\"\n",
        "NEW_FILE = \"./new-white-4-by-4.png\"\n",
        "\n",
        "img = Image.open(OLD_FILE)"
      ],
      "execution_count": 5,
      "outputs": []
    },
    {
      "cell_type": "code",
      "metadata": {
        "id": "EP-aER6oKpAV"
      },
      "source": [
        "# this example shows how you can modify colors in PIL\n",
        "\n",
        "# this is the list that will contain our new color triplets (the RGB values)\n",
        "new_data = []\n",
        "\n",
        "# NOTE: white RGB vals: [255, 255, 255]\n",
        "# this modifies the image to have only 0,255,255 rgb values\n",
        "for rgb_pair in img.getdata():\n",
        "  # explicity defines the RGB values\n",
        "  red = rgb_pair[0]\n",
        "  green = rgb_pair[1]\n",
        "  blue = rgb_pair[2]\n",
        "\n",
        "  # sets our new red to have no red tint\n",
        "  new_red = 0\n",
        "  new_rgb_values = (new_red, green, blue)\n",
        "\n",
        "  # adds uur new RGB color to our list\n",
        "  new_data.append(new_rgb_values)\n",
        "\n",
        "# lastly, we set the first pixel to pure black\n",
        "new_data[0] = (0, 0, 0)"
      ],
      "execution_count": 6,
      "outputs": []
    },
    {
      "cell_type": "code",
      "metadata": {
        "colab": {
          "base_uri": "https://localhost:8080/"
        },
        "id": "kuyhC0hbKtJ9",
        "outputId": "dc515357-0e14-45d9-d974-2bf5d4c8e729"
      },
      "source": [
        "# this example now does the exact same thing as the last example, but this time\n",
        "# we are modifying the color values bit by bit\n",
        "\n",
        "new_data = []\n",
        "\n",
        "# here we can define how many bits we want to 0 out (make 0)\n",
        "# For example, if we made this 0, the last bit in each color would be 0\n",
        "LSB_BITS_TO_ZERO = 2\n",
        "\n",
        "for rgb_pair in img.getdata():\n",
        "  red = rgb_pair[0]\n",
        "  green = rgb_pair[1]\n",
        "  blue = rgb_pair[2]\n",
        "\n",
        "  # create the bitarrays (the arrays of bits, the 1s and 0s that make up computer values)\n",
        "  # NOTE: the 'format(COLOR, \"08b\")' creates a string of bits that a bitarray can interpret\n",
        "  # if you're confused about it, just uncomment this:\n",
        "  # print(f\"Here's my formatted binary red: {format(red, '08b')}\")\n",
        "  red_ba = bitarray(format(red, \"08b\"))\n",
        "  green_ba = bitarray(format(green, \"08b\"))\n",
        "  blue_ba = bitarray(format(blue, \"08b\"))\n",
        "\n",
        "  # iterates (goes over) each bitarray, making the last \"LSB_BITS_TO_ZERO\" bits 0 in each bitarray\n",
        "  for ba in [red_ba, green_ba, blue_ba]:\n",
        "\n",
        "    # for each bit to zero out, we do so (the range loop starts at 1 and goes to LSB_BITS_TO_ZERO)\n",
        "    for bit_to_zero in range(1, LSB_BITS_TO_ZERO+1):\n",
        "  \n",
        "      # remember, negative list indexes in python mean going backwards in the list\n",
        "      # think of it like the list wraps around, so the -1 is the last element, -2 is the 2nd to last, etc.\n",
        "      # if we didn't make bit to zero negative, we would instead be modifying the most significant bit (check out what happens when you do this!)\n",
        "      ba[-bit_to_zero] = 0\n",
        "\n",
        "  # here we ust print off the bitarray to confirm we've done everything right\n",
        "  print(f\"red ba: {red_ba}\")\n",
        "\n",
        "  # now we can convert the bitarrays back to integers\n",
        "  new_rgb_value = []\n",
        "  for ba in [red_ba, green_ba, blue_ba]:\n",
        "    \n",
        "    # this is super convoluted, so dont worry about it too much\n",
        "    # Basically, we make the bitarray bytes, then load the bytes into an integer\n",
        "    new_color_int = int.from_bytes(ba.tobytes(), \"big\")\n",
        "    new_rgb_value.append(new_color_int)\n",
        "\n",
        "  # lastly, we can check our new RGB value and then add it to the list of image pixels\n",
        "  print(f\"Here's my modified pixel: Red: {new_rgb_value[0]} Blue: {new_rgb_value[1]} Blue: {new_rgb_value[2]}\")\n",
        "\n",
        "  # NOTE: we just have to make this a tuple (basically a list that you can't modify)\n",
        "  # this doesn't really change anything, just a PIL quirk\n",
        "  new_data.append(tuple(new_rgb_value))\n",
        "\n",
        "# and to check all your work at once, just uncomment these two lines to see the final image pixels\n",
        "# print(\"\\n\\nHere's my image data!\\n\")\n",
        "# print(new_data)"
      ],
      "execution_count": 14,
      "outputs": [
        {
          "output_type": "stream",
          "name": "stdout",
          "text": [
            "red ba: bitarray('11111100')\n",
            "Here's my modified pixel: Red: 252 Blue: 252 Blue: 252\n",
            "red ba: bitarray('11111100')\n",
            "Here's my modified pixel: Red: 252 Blue: 252 Blue: 252\n",
            "red ba: bitarray('11111100')\n",
            "Here's my modified pixel: Red: 252 Blue: 252 Blue: 252\n",
            "red ba: bitarray('11111100')\n",
            "Here's my modified pixel: Red: 252 Blue: 252 Blue: 252\n",
            "red ba: bitarray('11111100')\n",
            "Here's my modified pixel: Red: 252 Blue: 252 Blue: 252\n",
            "red ba: bitarray('11111100')\n",
            "Here's my modified pixel: Red: 252 Blue: 252 Blue: 252\n",
            "red ba: bitarray('11111100')\n",
            "Here's my modified pixel: Red: 252 Blue: 252 Blue: 252\n",
            "red ba: bitarray('11111100')\n",
            "Here's my modified pixel: Red: 252 Blue: 252 Blue: 252\n",
            "red ba: bitarray('11111100')\n",
            "Here's my modified pixel: Red: 252 Blue: 252 Blue: 252\n",
            "red ba: bitarray('11111100')\n",
            "Here's my modified pixel: Red: 252 Blue: 252 Blue: 252\n",
            "red ba: bitarray('11111100')\n",
            "Here's my modified pixel: Red: 252 Blue: 252 Blue: 252\n",
            "red ba: bitarray('11111100')\n",
            "Here's my modified pixel: Red: 252 Blue: 252 Blue: 252\n",
            "red ba: bitarray('11111100')\n",
            "Here's my modified pixel: Red: 252 Blue: 252 Blue: 252\n",
            "red ba: bitarray('11111100')\n",
            "Here's my modified pixel: Red: 252 Blue: 252 Blue: 252\n",
            "red ba: bitarray('11111100')\n",
            "Here's my modified pixel: Red: 252 Blue: 252 Blue: 252\n",
            "red ba: bitarray('11111100')\n",
            "Here's my modified pixel: Red: 252 Blue: 252 Blue: 252\n"
          ]
        }
      ]
    }
  ]
}