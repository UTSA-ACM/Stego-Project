{
  "nbformat": 4,
  "nbformat_minor": 0,
  "metadata": {
    "colab": {
      "name": "lsb-example.ipynb",
      "provenance": [],
      "collapsed_sections": []
    },
    "kernelspec": {
      "name": "python3",
      "display_name": "Python 3"
    },
    "language_info": {
      "name": "python"
    }
  },
  "cells": [
    {
      "cell_type": "code",
      "metadata": {
        "colab": {
          "resources": {
            "http://localhost:8080/nbextensions/google.colab/files.js": {
              "data": "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",
              "ok": true,
              "headers": [
                [
                  "content-type",
                  "application/javascript"
                ]
              ],
              "status": 200,
              "status_text": ""
            }
          },
          "base_uri": "https://localhost:8080/",
          "height": 72
        },
        "id": "xkP-U4C8_CG5",
        "outputId": "5239ecaa-aff0-42a0-d491-4f845945343d"
      },
      "source": [
        "# this is how you can upload your test files\n",
        "# I just used a 4x4 (16 pixel) white image to really show the color differences\n",
        "from google.colab import files\n",
        "\n",
        "uploaded = files.upload()"
      ],
      "execution_count": null,
      "outputs": [
        {
          "output_type": "display_data",
          "data": {
            "text/html": [
              "\n",
              "     <input type=\"file\" id=\"files-8e5a9e07-155a-45b1-b540-6b644c7923a0\" name=\"files[]\" multiple disabled\n",
              "        style=\"border:none\" />\n",
              "     <output id=\"result-8e5a9e07-155a-45b1-b540-6b644c7923a0\">\n",
              "      Upload widget is only available when the cell has been executed in the\n",
              "      current browser session. Please rerun this cell to enable.\n",
              "      </output>\n",
              "      <script src=\"/nbextensions/google.colab/files.js\"></script> "
            ],
            "text/plain": [
              "<IPython.core.display.HTML object>"
            ]
          },
          "metadata": {}
        },
        {
          "output_type": "stream",
          "name": "stdout",
          "text": [
            "Saving white-4-by-4.png to white-4-by-4.png\n"
          ]
        }
      ]
    },
    {
      "cell_type": "code",
      "metadata": {
        "id": "YSV-LYHo_5-q"
      },
      "source": [
        "# Our project is going to be able to do several functions:\n",
        "# - user input processing\n",
        "#   - processing user arguments\n",
        "#   - preparing input file\n",
        "#   - turning the message into bits\n",
        "# - hiding\n",
        "#   - (maybe) calculating capacity\n",
        "#   - writing over bits in input image\n",
        "#   - saving output image\n",
        "# - extracting\n",
        "#   - reading bits in image\n",
        "#   - displaying message"
      ],
      "execution_count": null,
      "outputs": []
    },
    {
      "cell_type": "code",
      "metadata": {
        "colab": {
          "base_uri": "https://localhost:8080/"
        },
        "id": "Gp2dGy-B_vC9",
        "outputId": "8c60d9c2-a8f9-4d1c-a785-4faf1d91782f"
      },
      "source": [
        "# you can install the bitarray package using this\n",
        "!pip install bitarray\n",
        "\n",
        "# we are now importing the Python Imaging Library (PIL) to manipulate images, and the bitarray class to more easily convert to and from raw bits\n",
        "from PIL import Image\n",
        "from bitarray import bitarray\n",
        "\n",
        "import argparse"
      ],
      "execution_count": null,
      "outputs": [
        {
          "output_type": "stream",
          "name": "stdout",
          "text": [
            "Requirement already satisfied: bitarray in /usr/local/lib/python3.7/dist-packages (2.3.4)\n"
          ]
        }
      ]
    },
    {
      "cell_type": "code",
      "metadata": {
        "id": "WxjAPosY_xNj"
      },
      "source": [
        "# this will turn a string into bits (Python message generator)\n",
        "def message_generator(message):\n",
        "  # turns the string into a list of bits (so we can hide it)\n",
        "  ba = bitarray()\n",
        "  ba.frombytes(message.encode('utf-8'))\n",
        "\n",
        "  # now returns each bit in the message one by one\n",
        "  for bit in ba:\n",
        "    yield bit"
      ],
      "execution_count": null,
      "outputs": []
    },
    {
      "cell_type": "code",
      "metadata": {
        "id": "mA6UTFP7_xjK"
      },
      "source": [
        "# here we define the file names we are loading and writing to, and open the image\n",
        "OLD_FILE = \"./white-4-by-4.png\"\n",
        "NEW_FILE = \"./new-white-4-by-4.png\"\n",
        "\n",
        "def parse_user_input():\n",
        "  \"\"\"\n",
        "  parser = argparse.ArgumentParser()\n",
        "\n",
        "  # GENERAL OPTIONS\n",
        "  parser.add_argument(\"-p\", \"--operation\", action=\"store\", type=str,\n",
        "                      choices=[\"hide\", \"extract\", \"test\"], default=\"hide\",\n",
        "                      help=\"either hides, extracts, or runs hiding and extracting\")\n",
        "\n",
        "  # HIDING OPTIONS\n",
        "\n",
        "  parser.add_argument(\"-i\", \"--input_file\", type=str, help=\"input file to hide in\", default=OLD_FILE)\n",
        "  parser.add_argument(\"-o\", \"--output_file\", type=str, help=\"output file to put hidden message bits\", default=NEW_FILE)\n",
        "\n",
        "  parser.add_argument(\"-m\", \"--message\", action=\"store\", type=str, default=\"Hello!\",\n",
        "                      help=\"the message to hide\")\n",
        "\n",
        "  parser.add_argument(\"-r\", \"--red-bits\", action=\"store\",\n",
        "                      type=int, default=1,\n",
        "                      help=\"bits to hide in first component\")\n",
        "  parser.add_argument(\"-g\", \"--green-bits\", action=\"store\",\n",
        "                      type=int, default=1,\n",
        "                      help=\"bits to hide in second component\")\n",
        "  parser.add_argument(\"-b\", \"--blue-bits\", action=\"store\",\n",
        "                      type=int, default=1,\n",
        "                      help=\"bits to hide in third component\")\n",
        "  \n",
        "\n",
        "  args = parser.parse_args()\n",
        "  return vars(args)\n",
        "  \"\"\"\n",
        "  args = {\n",
        "      \"operation\": \"hide\",\n",
        "      \"input_file\": OLD_FILE,\n",
        "      \"output_file\": NEW_FILE,\n",
        "      \"message\": \"hello!\",\n",
        "      \"red_bits\": 3,\n",
        "      \"green_bits\": 1,\n",
        "      \"blue_bits\": 1,\n",
        "  }\n",
        "\n",
        "  return args"
      ],
      "execution_count": null,
      "outputs": []
    },
    {
      "cell_type": "code",
      "metadata": {
        "id": "1I5YinKW_zY2"
      },
      "source": [
        "def hide(input_file, output_file, message, red_bits, green_bits, blue_bits, **kwargs):\n",
        "\n",
        "  # opens the file\n",
        "  img = Image.open(input_file)\n",
        "  \n",
        "  # the new pixel values\n",
        "  new_data = []\n",
        "\n",
        "  for rgb_pair in img.getdata():\n",
        "    red = rgb_pair[0]\n",
        "    green = rgb_pair[1]\n",
        "    blue = rgb_pair[2]\n",
        "\n",
        "    # create the bitarrays (the arrays of bits, the 1s and 0s that make up computer values)\n",
        "    # NOTE: the 'format(COLOR, \"08b\")' creates a string of bits that a bitarray can interpret\n",
        "    # if you're confused about it, just uncomment this:\n",
        "    red_ba = bitarray(format(red, \"08b\"))\n",
        "    green_ba = bitarray(format(green, \"08b\"))\n",
        "    blue_ba = bitarray(format(blue, \"08b\"))\n",
        "\n",
        "    # defines some lists so its easier to refer to stuff\n",
        "    color_bas = [red_ba, green_ba, blue_ba]\n",
        "    bits_to_hide = [red_bits, green_bits, blue_bits]\n",
        "\n",
        "    # iterates (goes over) each bitarray, making the last \"LSB_BITS_TO_ZERO\" bits 0 in each bitarray\n",
        "    for color_ba, bits_to_hide in zip(color_bas, bits_to_hide):\n",
        "      print(color_ba)\n",
        "      print(bits_to_hide)\n",
        "\n",
        "      # for each bit to zero out, we do so (the range loop starts at 1 and goes to LSB_BITS_TO_ZERO)\n",
        "      for bit_to_hide in range(1, bits_to_hide + 1):\n",
        "\n",
        "        msg_bit = next(message)\n",
        "    \n",
        "        # remember, negative list indexes in python mean going backwards in the list\n",
        "        # think of it like the list wraps around, so the -1 is the last element, -2 is the 2nd to last, etc.\n",
        "        # if we didn't make bit to zero negative, we would instead be modifying the most significant bit (check out what happens when you do this!)\n",
        "        color_ba[-bit_to_hide] = msg_bit\n",
        "\n",
        "    # here we ust print off the bitarray to confirm we've done everything right\n",
        "    print(f\"red ba: {red_ba} green_ba {green_ba}\")\n",
        "\n",
        "    \"\"\"\n",
        "\n",
        "    # now we can convert the bitarrays back to integers\n",
        "    new_rgb_value = []\n",
        "    for ba in [red_ba, green_ba, blue_ba]:\n",
        "      \n",
        "      # this is super convoluted, so dont worry about it too much\n",
        "      # Basically, we make the bitarray bytes, then load the bytes into an integer\n",
        "      new_color_int = int.from_bytes(ba.tobytes(), \"big\")\n",
        "      new_rgb_value.append(new_color_int)\n",
        "\n",
        "    # lastly, we can check our new RGB value and then add it to the list of image pixels\n",
        "    print(f\"Here's my modified pixel: Red: {new_rgb_value[0]} Blue: {new_rgb_value[1]} Blue: {new_rgb_value[2]}\")\n",
        "\n",
        "    # NOTE: we just have to make this a tuple (basically a list that you can't modify)\n",
        "    # this doesn't really change anything, just a PIL quirk\n",
        "    new_data.append(tuple(new_rgb_val    for ba in [red_ba, green_ba, blue_ba]:\n",
        "ue))\n",
        "    \"\"\""
      ],
      "execution_count": null,
      "outputs": []
    },
    {
      "cell_type": "code",
      "metadata": {
        "colab": {
          "base_uri": "https://localhost:8080/",
          "height": 1000
        },
        "id": "HMN3J7qYSq57",
        "outputId": "d67c471a-0c03-437b-816e-e043abd33258"
      },
      "source": [
        "main()"
      ],
      "execution_count": null,
      "outputs": [
        {
          "output_type": "stream",
          "name": "stdout",
          "text": [
            "bitarray('11111111')\n",
            "3\n",
            "bitarray('11111111')\n",
            "1\n",
            "bitarray('11111111')\n",
            "1\n",
            "red ba: bitarray('11111110') green_ba bitarray('11111110')\n",
            "bitarray('11111111')\n",
            "3\n",
            "bitarray('11111111')\n",
            "1\n",
            "bitarray('11111111')\n",
            "1\n",
            "red ba: bitarray('11111000') green_ba bitarray('11111110')\n",
            "bitarray('11111111')\n",
            "3\n",
            "bitarray('11111111')\n",
            "1\n",
            "bitarray('11111111')\n",
            "1\n",
            "red ba: bitarray('11111001') green_ba bitarray('11111111')\n",
            "bitarray('11111111')\n",
            "3\n",
            "bitarray('11111111')\n",
            "1\n",
            "bitarray('11111111')\n",
            "1\n",
            "red ba: bitarray('11111101') green_ba bitarray('11111111')\n",
            "bitarray('11111111')\n",
            "3\n",
            "bitarray('11111111')\n",
            "1\n",
            "bitarray('11111111')\n",
            "1\n",
            "red ba: bitarray('11111011') green_ba bitarray('11111110')\n",
            "bitarray('11111111')\n",
            "3\n",
            "bitarray('11111111')\n",
            "1\n",
            "bitarray('11111111')\n",
            "1\n",
            "red ba: bitarray('11111011') green_ba bitarray('11111111')\n",
            "bitarray('11111111')\n",
            "3\n",
            "bitarray('11111111')\n",
            "1\n",
            "bitarray('11111111')\n",
            "1\n",
            "red ba: bitarray('11111000') green_ba bitarray('11111111')\n",
            "bitarray('11111111')\n",
            "3\n",
            "bitarray('11111111')\n",
            "1\n",
            "bitarray('11111111')\n",
            "1\n",
            "red ba: bitarray('11111110') green_ba bitarray('11111111')\n",
            "bitarray('11111111')\n",
            "3\n",
            "bitarray('11111111')\n",
            "1\n",
            "bitarray('11111111')\n",
            "1\n",
            "red ba: bitarray('11111100') green_ba bitarray('11111110')\n",
            "bitarray('11111111')\n",
            "3\n",
            "bitarray('11111111')\n",
            "1\n"
          ]
        },
        {
          "output_type": "error",
          "ename": "StopIteration",
          "evalue": "ignored",
          "traceback": [
            "\u001b[0;31m---------------------------------------------------------------------------\u001b[0m",
            "\u001b[0;31mStopIteration\u001b[0m                             Traceback (most recent call last)",
            "\u001b[0;32m<ipython-input-90-263240bbee7e>\u001b[0m in \u001b[0;36m<module>\u001b[0;34m()\u001b[0m\n\u001b[0;32m----> 1\u001b[0;31m \u001b[0mmain\u001b[0m\u001b[0;34m(\u001b[0m\u001b[0;34m)\u001b[0m\u001b[0;34m\u001b[0m\u001b[0;34m\u001b[0m\u001b[0m\n\u001b[0m",
            "\u001b[0;32m<ipython-input-84-b6bb116cb3a2>\u001b[0m in \u001b[0;36mmain\u001b[0;34m()\u001b[0m\n\u001b[1;32m      6\u001b[0m \u001b[0;34m\u001b[0m\u001b[0m\n\u001b[1;32m      7\u001b[0m   \u001b[0;32mif\u001b[0m \u001b[0margs\u001b[0m\u001b[0;34m[\u001b[0m\u001b[0;34m\"operation\"\u001b[0m\u001b[0;34m]\u001b[0m \u001b[0;34m==\u001b[0m \u001b[0;34m\"hide\"\u001b[0m\u001b[0;34m:\u001b[0m\u001b[0;34m\u001b[0m\u001b[0;34m\u001b[0m\u001b[0m\n\u001b[0;32m----> 8\u001b[0;31m     \u001b[0mhide\u001b[0m\u001b[0;34m(\u001b[0m\u001b[0;34m**\u001b[0m\u001b[0margs\u001b[0m\u001b[0;34m)\u001b[0m\u001b[0;34m\u001b[0m\u001b[0;34m\u001b[0m\u001b[0m\n\u001b[0m\u001b[1;32m      9\u001b[0m   \u001b[0;32melif\u001b[0m \u001b[0margs\u001b[0m\u001b[0;34m[\u001b[0m\u001b[0;34m\"operation\"\u001b[0m\u001b[0;34m]\u001b[0m \u001b[0;34m==\u001b[0m \u001b[0;34m\"extract\"\u001b[0m\u001b[0;34m:\u001b[0m\u001b[0;34m\u001b[0m\u001b[0;34m\u001b[0m\u001b[0m\n\u001b[1;32m     10\u001b[0m     \u001b[0mextract\u001b[0m\u001b[0;34m(\u001b[0m\u001b[0;34m**\u001b[0m\u001b[0margs\u001b[0m\u001b[0;34m)\u001b[0m\u001b[0;34m\u001b[0m\u001b[0;34m\u001b[0m\u001b[0m\n",
            "\u001b[0;32m<ipython-input-89-4f654c2ca99a>\u001b[0m in \u001b[0;36mhide\u001b[0;34m(input_file, output_file, message, red_bits, green_bits, blue_bits, **kwargs)\u001b[0m\n\u001b[1;32m     31\u001b[0m       \u001b[0;32mfor\u001b[0m \u001b[0mbit_to_hide\u001b[0m \u001b[0;32min\u001b[0m \u001b[0mrange\u001b[0m\u001b[0;34m(\u001b[0m\u001b[0;36m1\u001b[0m\u001b[0;34m,\u001b[0m \u001b[0mbits_to_hide\u001b[0m \u001b[0;34m+\u001b[0m \u001b[0;36m1\u001b[0m\u001b[0;34m)\u001b[0m\u001b[0;34m:\u001b[0m\u001b[0;34m\u001b[0m\u001b[0;34m\u001b[0m\u001b[0m\n\u001b[1;32m     32\u001b[0m \u001b[0;34m\u001b[0m\u001b[0m\n\u001b[0;32m---> 33\u001b[0;31m         \u001b[0mmsg_bit\u001b[0m \u001b[0;34m=\u001b[0m \u001b[0mnext\u001b[0m\u001b[0;34m(\u001b[0m\u001b[0mmessage\u001b[0m\u001b[0;34m)\u001b[0m\u001b[0;34m\u001b[0m\u001b[0;34m\u001b[0m\u001b[0m\n\u001b[0m\u001b[1;32m     34\u001b[0m \u001b[0;34m\u001b[0m\u001b[0m\n\u001b[1;32m     35\u001b[0m         \u001b[0;31m# remember, negative list indexes in python mean going backwards in the list\u001b[0m\u001b[0;34m\u001b[0m\u001b[0;34m\u001b[0m\u001b[0;34m\u001b[0m\u001b[0m\n",
            "\u001b[0;31mStopIteration\u001b[0m: "
          ]
        }
      ]
    },
    {
      "cell_type": "code",
      "metadata": {
        "id": "oypDpTBiFoGP"
      },
      "source": [
        "def extract():\n",
        "  ..."
      ],
      "execution_count": null,
      "outputs": []
    },
    {
      "cell_type": "code",
      "metadata": {
        "id": "bQXbFGxTRNd2"
      },
      "source": [
        "def main():\n",
        "  args = parse_user_input()\n",
        "\n",
        "  # turns our string message into a bit by bit generator\n",
        "  args[\"message\"] = message_generator(args[\"message\"])\n",
        "\n",
        "  if args[\"operation\"] == \"hide\":\n",
        "    hide(**args)\n",
        "  elif args[\"operation\"] == \"extract\":\n",
        "    extract(**args)"
      ],
      "execution_count": null,
      "outputs": []
    },
    {
      "cell_type": "code",
      "metadata": {
        "colab": {
          "base_uri": "https://localhost:8080/"
        },
        "id": "cPk-VA_7RWXv",
        "outputId": "11bd5912-5d5f-4148-95e7-ba74a4ef1590"
      },
      "source": [
        "main()"
      ],
      "execution_count": null,
      "outputs": [
        {
          "output_type": "stream",
          "name": "stdout",
          "text": [
            "(255, 255, 255, 255)\n",
            "bitarray('11111111')\n",
            "3\n",
            "bitarray('11111111')\n",
            "1\n",
            "bitarray('11111111')\n",
            "1\n",
            "(255, 255, 255, 255)\n",
            "bitarray('11111111')\n",
            "3\n",
            "bitarray('11111111')\n",
            "1\n",
            "bitarray('11111111')\n",
            "1\n",
            "(255, 255, 255, 255)\n",
            "bitarray('11111111')\n",
            "3\n",
            "bitarray('11111111')\n",
            "1\n",
            "bitarray('11111111')\n",
            "1\n",
            "(255, 255, 255, 255)\n",
            "bitarray('11111111')\n",
            "3\n",
            "bitarray('11111111')\n",
            "1\n",
            "bitarray('11111111')\n",
            "1\n",
            "(255, 255, 255, 255)\n",
            "bitarray('11111111')\n",
            "3\n",
            "bitarray('11111111')\n",
            "1\n",
            "bitarray('11111111')\n",
            "1\n",
            "(255, 255, 255, 255)\n",
            "bitarray('11111111')\n",
            "3\n",
            "bitarray('11111111')\n",
            "1\n",
            "bitarray('11111111')\n",
            "1\n",
            "(255, 255, 255, 255)\n",
            "bitarray('11111111')\n",
            "3\n",
            "bitarray('11111111')\n",
            "1\n",
            "bitarray('11111111')\n",
            "1\n",
            "(255, 255, 255, 255)\n",
            "bitarray('11111111')\n",
            "3\n",
            "bitarray('11111111')\n",
            "1\n",
            "bitarray('11111111')\n",
            "1\n",
            "(255, 255, 255, 255)\n",
            "bitarray('11111111')\n",
            "3\n",
            "bitarray('11111111')\n",
            "1\n",
            "bitarray('11111111')\n",
            "1\n",
            "(255, 255, 255, 255)\n",
            "bitarray('11111111')\n",
            "3\n",
            "bitarray('11111111')\n",
            "1\n",
            "bitarray('11111111')\n",
            "1\n",
            "(255, 255, 255, 255)\n",
            "bitarray('11111111')\n",
            "3\n",
            "bitarray('11111111')\n",
            "1\n",
            "bitarray('11111111')\n",
            "1\n",
            "(255, 255, 255, 255)\n",
            "bitarray('11111111')\n",
            "3\n",
            "bitarray('11111111')\n",
            "1\n",
            "bitarray('11111111')\n",
            "1\n",
            "(255, 255, 255, 255)\n",
            "bitarray('11111111')\n",
            "3\n",
            "bitarray('11111111')\n",
            "1\n",
            "bitarray('11111111')\n",
            "1\n",
            "(255, 255, 255, 255)\n",
            "bitarray('11111111')\n",
            "3\n",
            "bitarray('11111111')\n",
            "1\n",
            "bitarray('11111111')\n",
            "1\n",
            "(255, 255, 255, 255)\n",
            "bitarray('11111111')\n",
            "3\n",
            "bitarray('11111111')\n",
            "1\n",
            "bitarray('11111111')\n",
            "1\n",
            "(255, 255, 255, 255)\n",
            "bitarray('11111111')\n",
            "3\n",
            "bitarray('11111111')\n",
            "1\n",
            "bitarray('11111111')\n",
            "1\n"
          ]
        }
      ]
    },
    {
      "cell_type": "code",
      "metadata": {
        "id": "LxmTuhW-RXc-"
      },
      "source": [
        ""
      ],
      "execution_count": null,
      "outputs": []
    }
  ]
}